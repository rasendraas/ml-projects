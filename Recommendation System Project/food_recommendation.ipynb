{
 "cells": [
  {
   "cell_type": "markdown",
   "id": "842c53ef",
   "metadata": {},
   "source": [
    "# [Sistem Rekomendasi] - Makanan Berbasis Deskripsi Bahan"
   ]
  },
  {
   "cell_type": "markdown",
   "id": "9753af72",
   "metadata": {},
   "source": [
    "### Rasendra Akbar Satyatama - MC004D5Y1124"
   ]
  },
  {
   "cell_type": "markdown",
   "id": "7c7db266",
   "metadata": {},
   "source": [
    "---"
   ]
  },
  {
   "cell_type": "markdown",
   "id": "4dcb5741",
   "metadata": {},
   "source": [
    "### **Domain Proyek: Komposisi dan Kategori Makanan**\n",
    "\n",
    "Industri makanan di era digital menghadirkan beragam pilihan menu yang berlimpah, sehingga memerlukan sistem rekomendasi yang dapat membantu pengguna menemukan makanan sesuai preferensi dengan cepat dan tepat. Namun, tantangan utama muncul ketika data interaksi pengguna seperti rating atau riwayat pesanan belum tersedia, yang dikenal sebagai *cold-start problem*.\n",
    "\n",
    "Untuk mengatasi hal ini, pendekatan *content-based filtering* menjadi solusi efektif karena memanfaatkan atribut makanan itu sendiri—seperti kategori, jenis makanan, dan deskripsi bahan untuk menghitung kemiripan antar makanan dan memberikan rekomendasi relevan tanpa bergantung pada data pengguna (Cheng et al., 2017). Dengan demikian, sistem dapat memberikan rekomendasi personal yang membantu pengguna menjelajahi pilihan makanan sesuai selera mereka secara efisien, terutama pada tahap awal pengembangan aplikasi kuliner.\n",
    "\n",
    "---\n",
    "\n",
    "### **Referensi:**\n",
    "\n",
    "Cheng, Z., Ding, Y., Zhu, L., & Kankanhalli, M. (2017). *Food Recommendation: Framework, Existing Solutions and Challenges*.\n",
    "\n",
    "---\n"
   ]
  },
  {
   "cell_type": "markdown",
   "id": "2db8b3f3",
   "metadata": {},
   "source": [
    "## 1. Business Understanding"
   ]
  },
  {
   "cell_type": "markdown",
   "id": "9d4d23af",
   "metadata": {},
   "source": [
    "### **Problem Statements**\n",
    "\n",
    "Dalam dunia kuliner, terdapat dua tantangan utama yang diangkat dalam proyek ini:\n",
    "\n",
    "1. **Bagaimana membangun sistem rekomendasi makanan** yang dapat menyarankan menu sesuai preferensi pengguna berdasarkan atribut seperti kategori makanan, jenis makanan (veg/non-veg), dan deskripsi bahan?\n",
    "\n",
    "2. **Bagaimana memanfaatkan informasi yang terkandung dalam data makanan itu sendiri** untuk memberikan rekomendasi yang relevan, tanpa memerlukan data interaksi pengguna seperti rating atau histori pemesanan?\n",
    "\n",
    "\n",
    "### **Goals**\n",
    "\n",
    "Proyek ini memiliki dua tujuan utama:\n",
    "\n",
    "1. **Mengembangkan sistem rekomendasi makanan berbasis content-based filtering** yang menggunakan atribut makanan seperti kategori, jenis, dan deskripsi bahan untuk menyarankan makanan yang sesuai dengan selera pengguna.\n",
    "\n",
    "2. **Menyediakan solusi rekomendasi yang tetap efektif tanpa data pengguna**, dengan fokus pada analisis kesamaan antar item makanan, sebagai pendekatan yang sesuai dalam kondisi cold-start (minim interaksi pengguna).\n",
    "\n",
    "### **Solution Approach**\n",
    "\n",
    "* **Content-Based Filtering:**\n",
    "  Sistem rekomendasi ini akan bekerja dengan menghitung kemiripan antar makanan berdasarkan atribut-atribut yang tersedia, terutama deskripsi bahan dan kategori makanan. Dengan pendekatan ini, jika seorang pengguna menyukai makanan berbahan dasar lemon atau termasuk kategori *Healthy Food*, maka sistem akan merekomendasikan makanan lain yang memiliki kemiripan atribut tersebut.\n",
    "\n",
    "* **Tanpa Collaborative Filtering:**\n",
    "  Pendekatan *collaborative filtering* tidak diterapkan karena tidak tersedianya data interaksi pengguna (seperti rating, histori pesanan, atau preferensi eksplisit). Selain itu, content-based filtering lebih cocok untuk tahap awal pengembangan sistem ketika fokus utama adalah pada informasi produk itu sendiri.\n",
    "\n",
    "* **Evaluasi:**\n",
    "  Sistem akan dievaluasi dengan metrik seperti *precision*, *recall*, *F1-Score* dan *top-N recommendation accuracy* untuk menilai relevansi hasil rekomendasi terhadap preferensi yang diketahui.\n",
    "\n",
    "---\n"
   ]
  },
  {
   "cell_type": "markdown",
   "id": "8ddfc190",
   "metadata": {},
   "source": [
    "## 2. Data Understanding"
   ]
  },
  {
   "cell_type": "markdown",
   "id": "7bbefd8f",
   "metadata": {},
   "source": [
    "Dataset yang digunakan dapat diakses di tautan berikut: https://www.kaggle.com/datasets/schemersays/food-recommendation-system"
   ]
  },
  {
   "cell_type": "markdown",
   "id": "1fa302bb",
   "metadata": {},
   "source": [
    "### 2.1 Data Loading"
   ]
  },
  {
   "cell_type": "code",
   "execution_count": 2,
   "id": "db79e74e",
   "metadata": {},
   "outputs": [],
   "source": [
    "import pandas as pd\n",
    "import numpy as np\n",
    "import matplotlib.pyplot as plt\n",
    "import seaborn as sns\n",
    "import string\n",
    "import re\n",
    "from sklearn.feature_extraction.text import TfidfVectorizer\n",
    "from sklearn.metrics.pairwise import cosine_similarity"
   ]
  },
  {
   "cell_type": "code",
   "execution_count": 3,
   "id": "7c4cb0b8",
   "metadata": {},
   "outputs": [
    {
     "data": {
      "text/html": [
       "<div>\n",
       "<style scoped>\n",
       "    .dataframe tbody tr th:only-of-type {\n",
       "        vertical-align: middle;\n",
       "    }\n",
       "\n",
       "    .dataframe tbody tr th {\n",
       "        vertical-align: top;\n",
       "    }\n",
       "\n",
       "    .dataframe thead th {\n",
       "        text-align: right;\n",
       "    }\n",
       "</style>\n",
       "<table border=\"1\" class=\"dataframe\">\n",
       "  <thead>\n",
       "    <tr style=\"text-align: right;\">\n",
       "      <th></th>\n",
       "      <th>Food_ID</th>\n",
       "      <th>Name</th>\n",
       "      <th>C_Type</th>\n",
       "      <th>Veg_Non</th>\n",
       "      <th>Describe</th>\n",
       "    </tr>\n",
       "  </thead>\n",
       "  <tbody>\n",
       "    <tr>\n",
       "      <th>0</th>\n",
       "      <td>1</td>\n",
       "      <td>summer squash salad</td>\n",
       "      <td>Healthy Food</td>\n",
       "      <td>veg</td>\n",
       "      <td>white balsamic vinegar, lemon juice, lemon rin...</td>\n",
       "    </tr>\n",
       "    <tr>\n",
       "      <th>1</th>\n",
       "      <td>2</td>\n",
       "      <td>chicken minced salad</td>\n",
       "      <td>Healthy Food</td>\n",
       "      <td>non-veg</td>\n",
       "      <td>olive oil, chicken mince, garlic (minced), oni...</td>\n",
       "    </tr>\n",
       "    <tr>\n",
       "      <th>2</th>\n",
       "      <td>3</td>\n",
       "      <td>sweet chilli almonds</td>\n",
       "      <td>Snack</td>\n",
       "      <td>veg</td>\n",
       "      <td>almonds whole, egg white, curry leaves, salt, ...</td>\n",
       "    </tr>\n",
       "    <tr>\n",
       "      <th>3</th>\n",
       "      <td>4</td>\n",
       "      <td>tricolour salad</td>\n",
       "      <td>Healthy Food</td>\n",
       "      <td>veg</td>\n",
       "      <td>vinegar, honey/sugar, soy sauce, salt, garlic ...</td>\n",
       "    </tr>\n",
       "    <tr>\n",
       "      <th>4</th>\n",
       "      <td>5</td>\n",
       "      <td>christmas cake</td>\n",
       "      <td>Dessert</td>\n",
       "      <td>veg</td>\n",
       "      <td>christmas dry fruits (pre-soaked), orange zest...</td>\n",
       "    </tr>\n",
       "    <tr>\n",
       "      <th>...</th>\n",
       "      <td>...</td>\n",
       "      <td>...</td>\n",
       "      <td>...</td>\n",
       "      <td>...</td>\n",
       "      <td>...</td>\n",
       "    </tr>\n",
       "    <tr>\n",
       "      <th>395</th>\n",
       "      <td>396</td>\n",
       "      <td>Kimchi Toast</td>\n",
       "      <td>Korean</td>\n",
       "      <td>veg</td>\n",
       "      <td>cream cheese, chopped kimchi, scallions,count...</td>\n",
       "    </tr>\n",
       "    <tr>\n",
       "      <th>396</th>\n",
       "      <td>397</td>\n",
       "      <td>Tacos de Gobernador (Shrimp, Poblano, and Chee...</td>\n",
       "      <td>Mexican</td>\n",
       "      <td>non-veg</td>\n",
       "      <td>poblano chiles, bacon, shrips, red salsa, garl...</td>\n",
       "    </tr>\n",
       "    <tr>\n",
       "      <th>397</th>\n",
       "      <td>398</td>\n",
       "      <td>Melted Broccoli Pasta With Capers and Anchovies</td>\n",
       "      <td>French</td>\n",
       "      <td>non-veg</td>\n",
       "      <td>broccoli,Bread Crumbs,  anchovy fillets, garli...</td>\n",
       "    </tr>\n",
       "    <tr>\n",
       "      <th>398</th>\n",
       "      <td>399</td>\n",
       "      <td>Lemon-Ginger Cake with Pistachios</td>\n",
       "      <td>Dessert</td>\n",
       "      <td>non-veg</td>\n",
       "      <td>egg yolks,lemon juice, unsalted butter, all pu...</td>\n",
       "    </tr>\n",
       "    <tr>\n",
       "      <th>399</th>\n",
       "      <td>400</td>\n",
       "      <td>Rosemary Roasted Vegetables</td>\n",
       "      <td>Healthy Food</td>\n",
       "      <td>veg</td>\n",
       "      <td>kosher salt, rosemary, garlic, potato, olive o...</td>\n",
       "    </tr>\n",
       "  </tbody>\n",
       "</table>\n",
       "<p>400 rows × 5 columns</p>\n",
       "</div>"
      ],
      "text/plain": [
       "     Food_ID                                               Name        C_Type  \\\n",
       "0          1                                summer squash salad  Healthy Food   \n",
       "1          2                               chicken minced salad  Healthy Food   \n",
       "2          3                               sweet chilli almonds         Snack   \n",
       "3          4                                    tricolour salad  Healthy Food   \n",
       "4          5                                     christmas cake       Dessert   \n",
       "..       ...                                                ...           ...   \n",
       "395      396                                       Kimchi Toast        Korean   \n",
       "396      397  Tacos de Gobernador (Shrimp, Poblano, and Chee...       Mexican   \n",
       "397      398    Melted Broccoli Pasta With Capers and Anchovies        French   \n",
       "398      399                  Lemon-Ginger Cake with Pistachios       Dessert   \n",
       "399      400                        Rosemary Roasted Vegetables  Healthy Food   \n",
       "\n",
       "     Veg_Non                                           Describe  \n",
       "0        veg  white balsamic vinegar, lemon juice, lemon rin...  \n",
       "1    non-veg  olive oil, chicken mince, garlic (minced), oni...  \n",
       "2        veg  almonds whole, egg white, curry leaves, salt, ...  \n",
       "3        veg  vinegar, honey/sugar, soy sauce, salt, garlic ...  \n",
       "4        veg  christmas dry fruits (pre-soaked), orange zest...  \n",
       "..       ...                                                ...  \n",
       "395      veg   cream cheese, chopped kimchi, scallions,count...  \n",
       "396  non-veg  poblano chiles, bacon, shrips, red salsa, garl...  \n",
       "397  non-veg  broccoli,Bread Crumbs,  anchovy fillets, garli...  \n",
       "398  non-veg  egg yolks,lemon juice, unsalted butter, all pu...  \n",
       "399      veg  kosher salt, rosemary, garlic, potato, olive o...  \n",
       "\n",
       "[400 rows x 5 columns]"
      ]
     },
     "execution_count": 3,
     "metadata": {},
     "output_type": "execute_result"
    }
   ],
   "source": [
    "df = pd.read_csv('data/food.csv')\n",
    "df"
   ]
  },
  {
   "cell_type": "markdown",
   "id": "0f366a9b",
   "metadata": {},
   "source": [
    "### 2.2 Deskripsi Variabel"
   ]
  },
  {
   "cell_type": "code",
   "execution_count": 4,
   "id": "1bea5251",
   "metadata": {},
   "outputs": [
    {
     "name": "stdout",
     "output_type": "stream",
     "text": [
      "<class 'pandas.core.frame.DataFrame'>\n",
      "RangeIndex: 400 entries, 0 to 399\n",
      "Data columns (total 5 columns):\n",
      " #   Column    Non-Null Count  Dtype \n",
      "---  ------    --------------  ----- \n",
      " 0   Food_ID   400 non-null    int64 \n",
      " 1   Name      400 non-null    object\n",
      " 2   C_Type    400 non-null    object\n",
      " 3   Veg_Non   400 non-null    object\n",
      " 4   Describe  400 non-null    object\n",
      "dtypes: int64(1), object(4)\n",
      "memory usage: 15.8+ KB\n"
     ]
    }
   ],
   "source": [
    "df.info()"
   ]
  },
  {
   "cell_type": "code",
   "execution_count": 5,
   "id": "74de830f",
   "metadata": {},
   "outputs": [
    {
     "data": {
      "text/plain": [
       "Food_ID     0\n",
       "Name        0\n",
       "C_Type      0\n",
       "Veg_Non     0\n",
       "Describe    0\n",
       "dtype: int64"
      ]
     },
     "execution_count": 5,
     "metadata": {},
     "output_type": "execute_result"
    }
   ],
   "source": [
    "df.isnull().sum()"
   ]
  },
  {
   "cell_type": "code",
   "execution_count": 16,
   "id": "04d298c6",
   "metadata": {},
   "outputs": [
    {
     "data": {
      "text/plain": [
       "0"
      ]
     },
     "execution_count": 16,
     "metadata": {},
     "output_type": "execute_result"
    }
   ],
   "source": [
    "df.duplicated().sum()"
   ]
  },
  {
   "cell_type": "markdown",
   "id": "2a92501e",
   "metadata": {},
   "source": [
    "Proyek ini menggunakan satu dataset utama yang berisi data makanan dengan atribut yang mendukung pembangunan sistem rekomendasi berbasis content-based filtering. Berikut adalah penjelasan detail dataset tersebut:\n",
    "\n",
    "| **No** | **Nama Dataset** | **Jumlah Baris** | **Jumlah Kolom** | **Deskripsi**                                                                                                                        |\n",
    "| ------ | ---------------- | ---------------- | ---------------- | ------------------------------------------------------------------------------------------------------------------------------------ |\n",
    "| 1      | `food_data.csv`  | 400              | 5                | Dataset berisi informasi makanan yang mencakup ID, nama makanan, kategori makanan, jenis (veg/non-veg), dan deskripsi bahan makanan. |\n",
    "\n",
    "#### **Detail Kolom pada `food_data.csv`**\n",
    "\n",
    "| Kolom    | Tipe   | Deskripsi                                                                               |\n",
    "| -------- | ------ | --------------------------------------------------------------------------------------- |\n",
    "| Food\\_ID | int64  | ID unik untuk setiap makanan                                                            |\n",
    "| Name     | object | Nama makanan                                                                            |\n",
    "| C\\_Type  | object | Kategori makanan (misalnya Healthy Food, Snack, Dessert, Korean, Mexican, dll.)         |\n",
    "| Veg\\_Non | object | Jenis makanan berdasarkan kandungan hewani (veg = vegetarian, non-veg = non-vegetarian) |\n",
    "| Describe | object | Deskripsi detail bahan-bahan yang digunakan dalam makanan tersebut                      |\n",
    "\n",
    "---"
   ]
  },
  {
   "cell_type": "markdown",
   "id": "982b8bfc",
   "metadata": {},
   "source": [
    "### 2.3 Univariate Exploratory Data Analysis"
   ]
  },
  {
   "cell_type": "code",
   "execution_count": 6,
   "id": "4a89659a",
   "metadata": {},
   "outputs": [
    {
     "data": {
      "image/png": "[encoded data removed]",
      "text/plain": [
       "<Figure size 600x600 with 1 Axes>"
      ]
     },
     "metadata": {},
     "output_type": "display_data"
    }
   ],
   "source": [
    "veg_counts = df['Veg_Non'].value_counts()\n",
    "plt.figure(figsize=(6,6))\n",
    "plt.pie(veg_counts, labels=veg_counts.index, autopct='%1.1f%%', \n",
    "        startangle=140, colors=['#66b3ff','#ff9999'])\n",
    "plt.title('Distribusi Jenis Makanan (Veg / Non-Veg)')\n",
    "plt.show()"
   ]
  },
  {
   "cell_type": "code",
   "execution_count": 7,
   "id": "a6d048dd",
   "metadata": {},
   "outputs": [
    {
     "data": {
      "image/png": "[encoded data removed]",
      "text/plain": [
       "<Figure size 1000x600 with 1 Axes>"
      ]
     },
     "metadata": {},
     "output_type": "display_data"
    }
   ],
   "source": [
    "plt.figure(figsize=(10,6))\n",
    "sns.countplot(data=df, x='C_Type', order=df['C_Type'].value_counts().index)\n",
    "plt.xticks(rotation=45, ha='right')\n",
    "plt.title('Frekuensi Kategori Makanan (C_Type)')\n",
    "plt.xlabel('Kategori Makanan')\n",
    "plt.ylabel('Jumlah')\n",
    "plt.tight_layout()\n",
    "plt.show()"
   ]
  },
  {
   "cell_type": "markdown",
   "id": "f2b74ae7",
   "metadata": {},
   "source": [
    "## 3. Data Preparation"
   ]
  },
  {
   "cell_type": "markdown",
   "id": "b3d269db",
   "metadata": {},
   "source": [
    "### 3.1 TF-IDF"
   ]
  },
  {
   "cell_type": "code",
   "execution_count": 8,
   "id": "64eb93ea",
   "metadata": {},
   "outputs": [
    {
     "name": "stdout",
     "output_type": "stream",
     "text": [
      "['10' '12' '12inchthin' ... 'zested' 'zinfandel' 'zucchini']\n",
      "(400, 1270)\n"
     ]
    }
   ],
   "source": [
    "def clean_text(text):\n",
    "    text = text.lower()\n",
    "    text = text.translate(str.maketrans('', '', string.punctuation))\n",
    "    return text\n",
    "def clean_spaces(text):\n",
    "    return re.sub(r'\\s+', ' ', text).strip()\n",
    "\n",
    "df['content'] = df['C_Type'].astype(str) + ' ' + df['Veg_Non'].astype(str) + ' ' + df['Describe']\n",
    "\n",
    "df['content_clean'] = df['content'].apply(clean_text)\n",
    "df['content_clean'] = df['content_clean'].apply(clean_spaces)\n",
    "\n",
    "tfidf = TfidfVectorizer(stop_words='english')\n",
    "\n",
    "tfidf_matrix = tfidf.fit_transform(df['content_clean'])\n",
    "\n",
    "print(tfidf.get_feature_names_out())\n",
    "print(tfidf_matrix.shape)"
   ]
  },
  {
   "cell_type": "code",
   "execution_count": 9,
   "id": "bf9208ce",
   "metadata": {},
   "outputs": [
    {
     "name": "stdout",
     "output_type": "stream",
     "text": [
      "  (0, 504)\t0.15282808325865468\n",
      "  (0, 429)\t0.15022907656656745\n",
      "  (0, 1203)\t0.07952077371555998\n",
      "  (0, 1234)\t0.1745214749087308\n",
      "  (0, 77)\t0.29385611082467955\n",
      "  (0, 1213)\t0.1978241504121871\n",
      "  (0, 608)\t0.29878123543297985\n",
      "  (0, 553)\t0.15944619779850266\n",
      "  (0, 922)\t0.29385611082467955\n",
      "  (0, 907)\t0.13187757268804817\n",
      "  (0, 233)\t0.1772801413200441\n",
      "  (0, 445)\t0.10984213969198696\n",
      "  (0, 263)\t0.17319475695257214\n",
      "  (0, 319)\t0.20219356019132292\n",
      "  (0, 732)\t0.14939061771648993\n",
      "  (0, 727)\t0.09525798670302157\n",
      "  (0, 1116)\t0.30893138793490765\n",
      "  (0, 1080)\t0.29385611082467955\n",
      "  (0, 1269)\t0.2645308108277561\n",
      "  (0, 976)\t0.24084563318684002\n",
      "  (0, 956)\t0.08859472996928447\n",
      "  (0, 120)\t0.1446234636356898\n",
      "  (0, 797)\t0.1257054400755738\n",
      "  (0, 86)\t0.22459272089573082\n",
      "  (0, 601)\t0.1510811694898754\n",
      "  :\t:\n",
      "  (398, 160)\t0.21763659644286146\n",
      "  (398, 460)\t0.20038506876245893\n",
      "  (398, 385)\t0.2617479466054286\n",
      "  (398, 1111)\t0.20302023120203125\n",
      "  (398, 354)\t0.24526843103112142\n",
      "  (398, 425)\t0.2095191607226219\n",
      "  (398, 1191)\t0.39391850136807305\n",
      "  (398, 671)\t0.2381228668074056\n",
      "  (398, 889)\t0.36372013968313627\n",
      "  (398, 1261)\t0.5174366205835069\n",
      "  (399, 504)\t0.21031734692944354\n",
      "  (399, 429)\t0.20674067318940498\n",
      "  (399, 1203)\t0.10943406340657673\n",
      "  (399, 445)\t0.15116140246274906\n",
      "  (399, 732)\t0.20558681169289347\n",
      "  (399, 727)\t0.13109113593548363\n",
      "  (399, 956)\t0.12192136524760858\n",
      "  (399, 797)\t0.1729919926205424\n",
      "  (399, 185)\t0.26406688612317447\n",
      "  (399, 209)\t0.24017113087060266\n",
      "  (399, 492)\t0.27223956216768314\n",
      "  (399, 853)\t0.309077652426686\n",
      "  (399, 941)\t0.3459157426856889\n",
      "  (399, 590)\t0.388303863420646\n",
      "  (399, 1219)\t0.45438199089478937\n"
     ]
    }
   ],
   "source": [
    "print(tfidf_matrix)"
   ]
  },
  {
   "cell_type": "markdown",
   "id": "a2a282ad",
   "metadata": {},
   "source": [
    "## 4. Modeling"
   ]
  },
  {
   "cell_type": "markdown",
   "id": "de15c452",
   "metadata": {},
   "source": [
    "### 4.1 Cosine Similarity"
   ]
  },
  {
   "cell_type": "code",
   "execution_count": 10,
   "id": "b337b90d",
   "metadata": {},
   "outputs": [],
   "source": [
    "cosine_sim = cosine_similarity(tfidf_matrix, tfidf_matrix)"
   ]
  },
  {
   "cell_type": "code",
   "execution_count": 11,
   "id": "d62e1959",
   "metadata": {},
   "outputs": [
    {
     "name": "stdout",
     "output_type": "stream",
     "text": [
      "[[1.         0.19757503 0.1292097  ... 0.12137388 0.03984156 0.16425487]\n",
      " [0.19757503 1.         0.06259989 ... 0.15124545 0.0677997  0.21651763]\n",
      " [0.1292097  0.06259989 1.         ... 0.03014219 0.10662772 0.02970139]\n",
      " ...\n",
      " [0.12137388 0.15124545 0.03014219 ... 1.         0.01768454 0.09281148]\n",
      " [0.03984156 0.0677997  0.10662772 ... 0.01768454 1.         0.        ]\n",
      " [0.16425487 0.21651763 0.02970139 ... 0.09281148 0.         1.        ]]\n"
     ]
    }
   ],
   "source": [
    "print(cosine_sim)"
   ]
  },
  {
   "cell_type": "markdown",
   "id": "fe26f6f8",
   "metadata": {},
   "source": [
    "### 4.2 Top 8 Recommendation Results"
   ]
  },
  {
   "cell_type": "code",
   "execution_count": 12,
   "id": "a16038e4",
   "metadata": {},
   "outputs": [
    {
     "name": "stdout",
     "output_type": "stream",
     "text": [
      "Food_ID yang dicari: 1\n",
      "Nama makanan: summer squash salad\n",
      "Deskripsi bahan: white balsamic vinegar, lemon juice, lemon rind, red chillies, garlic cloves (crushed), olive oil, summer squash (zucchini), sea salt, black pepper, basil leaves\n",
      "Jenis (Veg/Non-Veg): veg\n",
      "Kategori (C_Type): Healthy Food\n",
      "\n"
     ]
    }
   ],
   "source": [
    "test_idx = 0\n",
    "test_food_id = df.loc[test_idx, 'Food_ID']\n",
    "test_food_name = df.loc[test_idx, 'Name']\n",
    "test_food_desc = df.loc[test_idx, 'Describe']\n",
    "test_food_veg_non = df.loc[test_idx, 'Veg_Non']\n",
    "test_food_c_type = df.loc[test_idx, 'C_Type']\n",
    "\n",
    "print(f\"Food_ID yang dicari: {test_food_id}\")\n",
    "print(f\"Nama makanan: {test_food_name}\")\n",
    "print(f\"Deskripsi bahan: {test_food_desc}\")\n",
    "print(f\"Jenis (Veg/Non-Veg): {test_food_veg_non}\")\n",
    "print(f\"Kategori (C_Type): {test_food_c_type}\\n\")"
   ]
  },
  {
   "cell_type": "code",
   "execution_count": 13,
   "id": "495de045",
   "metadata": {},
   "outputs": [
    {
     "name": "stdout",
     "output_type": "stream",
     "text": [
      "Top 8 rekomendasi makanan mirip:\n"
     ]
    },
    {
     "data": {
      "text/html": [
       "<div>\n",
       "<style scoped>\n",
       "    .dataframe tbody tr th:only-of-type {\n",
       "        vertical-align: middle;\n",
       "    }\n",
       "\n",
       "    .dataframe tbody tr th {\n",
       "        vertical-align: top;\n",
       "    }\n",
       "\n",
       "    .dataframe thead th {\n",
       "        text-align: right;\n",
       "    }\n",
       "</style>\n",
       "<table border=\"1\" class=\"dataframe\">\n",
       "  <thead>\n",
       "    <tr style=\"text-align: right;\">\n",
       "      <th></th>\n",
       "      <th>Food_ID</th>\n",
       "      <th>Name</th>\n",
       "      <th>Veg_Non</th>\n",
       "      <th>C_Type</th>\n",
       "      <th>Similarity_Score</th>\n",
       "    </tr>\n",
       "  </thead>\n",
       "  <tbody>\n",
       "    <tr>\n",
       "      <th>0</th>\n",
       "      <td>164</td>\n",
       "      <td>green cucumber shots</td>\n",
       "      <td>veg</td>\n",
       "      <td>Healthy Food</td>\n",
       "      <td>0.301098</td>\n",
       "    </tr>\n",
       "    <tr>\n",
       "      <th>1</th>\n",
       "      <td>17</td>\n",
       "      <td>baked namakpara with roasted almond dip</td>\n",
       "      <td>veg</td>\n",
       "      <td>Snack</td>\n",
       "      <td>0.288072</td>\n",
       "    </tr>\n",
       "    <tr>\n",
       "      <th>2</th>\n",
       "      <td>70</td>\n",
       "      <td>shepherds salad (tamatar-kheera salaad)</td>\n",
       "      <td>veg</td>\n",
       "      <td>Healthy Food</td>\n",
       "      <td>0.286719</td>\n",
       "    </tr>\n",
       "    <tr>\n",
       "      <th>3</th>\n",
       "      <td>221</td>\n",
       "      <td>amaranthus granola with lemon yogurt, berries ...</td>\n",
       "      <td>veg</td>\n",
       "      <td>Healthy Food</td>\n",
       "      <td>0.283219</td>\n",
       "    </tr>\n",
       "    <tr>\n",
       "      <th>4</th>\n",
       "      <td>144</td>\n",
       "      <td>shrimp &amp; cilantro ceviche</td>\n",
       "      <td>veg</td>\n",
       "      <td>French</td>\n",
       "      <td>0.281902</td>\n",
       "    </tr>\n",
       "    <tr>\n",
       "      <th>5</th>\n",
       "      <td>379</td>\n",
       "      <td>Grilled Chicken with Almond and Garlic Sauce</td>\n",
       "      <td>non-veg</td>\n",
       "      <td>Healthy Food</td>\n",
       "      <td>0.273470</td>\n",
       "    </tr>\n",
       "    <tr>\n",
       "      <th>6</th>\n",
       "      <td>161</td>\n",
       "      <td>spanish fish fry</td>\n",
       "      <td>non-veg</td>\n",
       "      <td>Mexican</td>\n",
       "      <td>0.270702</td>\n",
       "    </tr>\n",
       "    <tr>\n",
       "      <th>7</th>\n",
       "      <td>178</td>\n",
       "      <td>oats shallots pulao</td>\n",
       "      <td>veg</td>\n",
       "      <td>Healthy Food</td>\n",
       "      <td>0.247507</td>\n",
       "    </tr>\n",
       "  </tbody>\n",
       "</table>\n",
       "</div>"
      ],
      "text/plain": [
       "   Food_ID                                               Name  Veg_Non  \\\n",
       "0      164                               green cucumber shots      veg   \n",
       "1       17            baked namakpara with roasted almond dip      veg   \n",
       "2       70            shepherds salad (tamatar-kheera salaad)      veg   \n",
       "3      221  amaranthus granola with lemon yogurt, berries ...      veg   \n",
       "4      144                          shrimp & cilantro ceviche      veg   \n",
       "5      379       Grilled Chicken with Almond and Garlic Sauce  non-veg   \n",
       "6      161                                   spanish fish fry  non-veg   \n",
       "7      178                                oats shallots pulao      veg   \n",
       "\n",
       "         C_Type  Similarity_Score  \n",
       "0  Healthy Food          0.301098  \n",
       "1         Snack          0.288072  \n",
       "2  Healthy Food          0.286719  \n",
       "3  Healthy Food          0.283219  \n",
       "4        French          0.281902  \n",
       "5  Healthy Food          0.273470  \n",
       "6       Mexican          0.270702  \n",
       "7  Healthy Food          0.247507  "
      ]
     },
     "execution_count": 13,
     "metadata": {},
     "output_type": "execute_result"
    }
   ],
   "source": [
    "sim_scores = list(enumerate(cosine_sim[test_idx]))\n",
    "\n",
    "sim_scores = sorted(sim_scores, key=lambda x: x[1], reverse=True)\n",
    "\n",
    "top_recommendations = [i for i in sim_scores if i[0] != test_idx][:8]\n",
    "\n",
    "recommendations = pd.DataFrame({\n",
    "    'Food_ID': [df.loc[i[0], 'Food_ID'] for i in top_recommendations],\n",
    "    'Name': [df.loc[i[0], 'Name'] for i in top_recommendations],\n",
    "    'Veg_Non': [df.loc[i[0], 'Veg_Non'] for i in top_recommendations],\n",
    "    'C_Type': [df.loc[i[0], 'C_Type'] for i in top_recommendations],\n",
    "    'Similarity_Score': [i[1] for i in top_recommendations]\n",
    "})\n",
    "\n",
    "\n",
    "print(\"Top 8 rekomendasi makanan mirip:\")\n",
    "recommendations.reset_index(drop=True)"
   ]
  },
  {
   "cell_type": "markdown",
   "id": "e6e4916e",
   "metadata": {},
   "source": [
    "## 5. Evaluation"
   ]
  },
  {
   "cell_type": "code",
   "execution_count": 14,
   "id": "a76b798f",
   "metadata": {},
   "outputs": [
    {
     "name": "stdout",
     "output_type": "stream",
     "text": [
      "Precision@8 : 0.6250\n",
      "Recall@8    : 0.0877\n",
      "F1-Score      : 0.1538\n"
     ]
    }
   ],
   "source": [
    "K = 8\n",
    "\n",
    "test_c_type = df.loc[test_idx, 'C_Type']\n",
    "\n",
    "recommended_food_ids = recommendations['Food_ID'].tolist()\n",
    "\n",
    "recommended_c_types = recommendations['C_Type'].tolist()\n",
    "\n",
    "relevant_recommended = sum([1 for c in recommended_c_types if c == test_c_type])\n",
    "\n",
    "total_relevant = len(df[(df['C_Type'] == test_c_type) & (df.index != test_idx)])\n",
    "\n",
    "precision_at_k = relevant_recommended / K\n",
    "\n",
    "recall_at_k = relevant_recommended / total_relevant if total_relevant > 0 else 0\n",
    "\n",
    "if precision_at_k + recall_at_k == 0:\n",
    "    f1_score = 0\n",
    "else:\n",
    "    f1_score = 2 * (precision_at_k * recall_at_k) / (precision_at_k + recall_at_k)\n",
    "\n",
    "print(f\"Precision@{K} : {precision_at_k:.4f}\")\n",
    "print(f\"Recall@{K}    : {recall_at_k:.4f}\")\n",
    "print(f\"F1-Score      : {f1_score:.4f}\")\n"
   ]
  },
  {
   "cell_type": "markdown",
   "id": "b78b5ef6",
   "metadata": {},
   "source": [
    "## 6. Kesimpulan\n",
    "\n",
    "**Menjawab Problem Statement:**\n",
    "Model rekomendasi berbasis konten ini berhasil menjawab problem statement dengan baik. Sistem mampu memberikan rekomendasi makanan yang relevan berdasarkan deskripsi bahan, kategori makanan (C\\_Type), dan status vegetarian/non-vegetarian (Veg\\_Non). Penggunaan TF-IDF dan cosine similarity memungkinkan sistem untuk mengukur kemiripan konten secara efektif tanpa memerlukan data pengguna lain, sesuai dengan kebutuhan sistem rekomendasi berbasis konten.\n",
    "\n",
    "**Pencapaian Goals:**\n",
    "Sistem ini mencapai goals yang ditetapkan, yaitu menghasilkan rekomendasi makanan yang relevan dan serupa dengan makanan yang dipilih pengguna. Dengan Precision\\@8 sebesar 0.6250, sistem mampu merekomendasikan sekitar 62,5% makanan yang sesuai dalam 8 rekomendasi teratas. Namun, nilai Recall\\@8 yang relatif rendah (0.0877) menunjukkan bahwa sistem hanya menemukan sebagian kecil dari seluruh makanan relevan yang tersedia, sehingga cakupan rekomendasi masih terbatas.\n",
    "\n",
    "**Dampak Solusi Terhadap Bisnis:**\n",
    "Solusi ini dapat meningkatkan pengalaman pengguna dengan menyediakan rekomendasi makanan yang sesuai preferensi, sehingga mendorong pengguna untuk lebih sering mencoba makanan baru yang relevan dengan selera mereka. Selain itu, sistem yang tidak bergantung pada data pengguna lain menjaga privasi sekaligus menyederhanakan implementasi rekomendasi.\n",
    "\n",
    "**Ruang Perbaikan:**\n",
    "Meskipun hasil Precision cukup baik, nilai Recall dan F1-Score (0.1538) masih perlu ditingkatkan agar rekomendasi mencakup lebih banyak makanan relevan. Perbaikan bisa dilakukan dengan menambah fitur tambahan, seperti metadata nutrisi atau review pengguna, serta eksplorasi metode filtering hybrid untuk meningkatkan keberagaman dan relevansi rekomendasi.\n",
    "\n",
    "---"
   ]
  }
 ],
 "metadata": {
  "kernelspec": {
   "display_name": "base",
   "language": "python",
   "name": "python3"
  },
  "language_info": {
   "codemirror_mode": {
    "name": "ipython",
    "version": 3
   },
   "file_extension": ".py",
   "mimetype": "text/x-python",
   "name": "python",
   "nbconvert_exporter": "python",
   "pygments_lexer": "ipython3",
   "version": "3.11.5"
  }
 },
 "nbformat": 4,
 "nbformat_minor": 5
}
