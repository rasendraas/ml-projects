{
 "cells": [
  {
   "cell_type": "markdown",
   "id": "d6af2ea8",
   "metadata": {},
   "source": [
    "# _Scraping Livin' by Mandiri from Google Play Store_"
   ]
  },
  {
   "cell_type": "markdown",
   "id": "c62109fb",
   "metadata": {},
   "source": [
    "---"
   ]
  },
  {
   "cell_type": "markdown",
   "id": "33edd82e",
   "metadata": {},
   "source": [
    "##### _Made by: Rasendra Akbar Satyatama_ - MC004D5Y1124"
   ]
  },
  {
   "cell_type": "markdown",
   "id": "fc8196c7",
   "metadata": {},
   "source": [
    "### 1. Import Libraries"
   ]
  },
  {
   "cell_type": "code",
   "execution_count": 2,
   "id": "a83ae39e",
   "metadata": {},
   "outputs": [],
   "source": [
    "import pandas as pd  \n",
    "import numpy as np \n",
    "from google_play_scraper import app, Sort, reviews"
   ]
  },
  {
   "cell_type": "markdown",
   "id": "e77fe9de",
   "metadata": {},
   "source": [
    "### 2. Cek Metadata Aplikasi"
   ]
  },
  {
   "cell_type": "code",
   "execution_count": 3,
   "id": "4568947c",
   "metadata": {},
   "outputs": [
    {
     "name": "stdout",
     "output_type": "stream",
     "text": [
      "{'title': \"Livin' by Mandiri\", 'description': \"Imagine having a 24/7 financial sidekick, always there for you, wherever you go. Livin' has leveled up with exciting features to enrich your life to the fullest!\\r\\n\\r\\nLIFESTYLE SAVER ✓\\r\\nDive into various content and meet your lifestyle needs at Sukha! Pay effortlessly using your savings, credit card, or opt for paylater!\\r\\n\\r\\nEARN LIVIN'POIN AND REDEEM EXCITING REWARDS ✓\\r\\nMake more transactions, earn Livin'poin, and redeem exciting rewards. Level up your Membership and enjoy the benefits!\\r\\n\\r\\nGROW YOUR INVESTMENT IN ONE APP ✓\\r\\nManage your investments effortlessly without switching apps. From opening a RDN to investing in stocks with Growin' by Mandiri Sekuritas.\\r\\n\\r\\nTAP-TO-PAY CONVENIENCE ✓\\r\\nNo cards? No worries! Pay with a tap – quick and easy! Try it when traveling abroad; choose your funding source – IDR or other currencies.\\r\\n\\r\\nREGISTER LIVIN' FROM OVERSEAS ✓\\r\\nSign up for Livin' using your local country number – we're going global, literally!\\r\\n\\r\\nCROSS-CURRENCY TRANSFER ✓\\r\\nCheap, fast and easy way to send foreign currencies globally or between Mandiri account.\\r\\n\\r\\nUSE YOUR FOREX ACCOUNT AS YOUR SOURCE OF FUND NOW ✓\\r\\nSet your Forex Account as your funding source – get it done now. Then you can use Debit Card or Tap to Pay whenever you travel overseas! Without exchange fees!\\r\\n\\r\\nYOU CAN USE QRIS PAYMENT IN MALAYSIA, THAILAND, AND SINGAPORE ✓\\r\\nPay using QRIS Livin' when you travel to Malaysia, Thailand, and Singapore, try it! Choose your source of funds: savings, credit card, or paylater.\\r\\n\\r\\nALL-IN-ONE WALLET ✓\\r\\nConnects all your wallets in one app – truly beyond banking!\\r\\n\\r\\nBILL PAYMENTS WITH VIRTUAL ACCOUNT ✓\\r\\nJust copy-paste your VA (Virtual Account) number, and done! Pay using savings, credit card, or paylater.\\r\\n\\r\\nCARDLESS DEPOSIT AND WITHDRAWAL ✓\\r\\nForget your wallet? No problem! Cash in and out at the ATM with Livin'.\\r\\n\\r\\nEXPRESS FUNDS ✓\\r\\nGet loans and credit cards effortlessly, with swift approval! Loan limits up to IDR 1 billion.\\r\\n\\r\\nLOOKING FOR YOUR DREAM HOME ✓\\r\\nDiscover a wide selection of properties from reputable developers across Indonesia!\\r\\n\\r\\nPAY LATER, NO HASSLE, NO WORRIES! ✓\\r\\nShop now, pay later with Livin' Paylater – easy and fast, up to IDR 10 million limit, 0% interest*!\\r\\n\\r\\nSHARING BILLS MADE EASIER✓\\r\\nShow your QR Transfer code to friends for easy payment scanning! Track your transactions seamlessly.\\r\\n\\r\\nYour financial sidekick is leveling up – more features, better than ever! Register now and let Livin' enhance your financial adventures!\\r\\n\\r\\n*T&C apply\", 'descriptionHTML': 'Imagine having a 24/7 financial sidekick, always there for you, wherever you go. Livin&#39; has leveled up with exciting features to enrich your life to the fullest!<br><br>LIFESTYLE SAVER ✓<br>Dive into various content and meet your lifestyle needs at Sukha! Pay effortlessly using your savings, credit card, or opt for paylater!<br><br>EARN LIVIN&#39;POIN AND REDEEM EXCITING REWARDS ✓<br>Make more transactions, earn Livin&#39;poin, and redeem exciting rewards. Level up your Membership and enjoy the benefits!<br><br>GROW YOUR INVESTMENT IN ONE APP ✓<br>Manage your investments effortlessly without switching apps. From opening a RDN to investing in stocks with Growin&#39; by Mandiri Sekuritas.<br><br>TAP-TO-PAY CONVENIENCE ✓<br>No cards? No worries! Pay with a tap – quick and easy! Try it when traveling abroad; choose your funding source – IDR or other currencies.<br><br>REGISTER LIVIN&#39; FROM OVERSEAS ✓<br>Sign up for Livin&#39; using your local country number – we&#39;re going global, literally!<br><br>CROSS-CURRENCY TRANSFER ✓<br>Cheap, fast and easy way to send foreign currencies globally or between Mandiri account.<br><br>USE YOUR FOREX ACCOUNT AS YOUR SOURCE OF FUND NOW ✓<br>Set your Forex Account as your funding source – get it done now. Then you can use Debit Card or Tap to Pay whenever you travel overseas! Without exchange fees!<br><br>YOU CAN USE QRIS PAYMENT IN MALAYSIA, THAILAND, AND SINGAPORE ✓<br>Pay using QRIS Livin&#39; when you travel to Malaysia, Thailand, and Singapore, try it! Choose your source of funds: savings, credit card, or paylater.<br><br>ALL-IN-ONE WALLET ✓<br>Connects all your wallets in one app – truly beyond banking!<br><br>BILL PAYMENTS WITH VIRTUAL ACCOUNT ✓<br>Just copy-paste your VA (Virtual Account) number, and done! Pay using savings, credit card, or paylater.<br><br>CARDLESS DEPOSIT AND WITHDRAWAL ✓<br>Forget your wallet? No problem! Cash in and out at the ATM with Livin&#39;.<br><br>EXPRESS FUNDS ✓<br>Get loans and credit cards effortlessly, with swift approval! Loan limits up to IDR 1 billion.<br><br>LOOKING FOR YOUR DREAM HOME ✓<br>Discover a wide selection of properties from reputable developers across Indonesia!<br><br>PAY LATER, NO HASSLE, NO WORRIES! ✓<br>Shop now, pay later with Livin&#39; Paylater – easy and fast, up to IDR 10 million limit, 0% interest*!<br><br>SHARING BILLS MADE EASIER✓<br>Show your QR Transfer code to friends for easy payment scanning! Track your transactions seamlessly.<br><br>Your financial sidekick is leveling up – more features, better than ever! Register now and let Livin&#39; enhance your financial adventures!<br><br>*T&amp;C apply', 'summary': \"Livin' by Mandiri #BeyondSuperApp\", 'installs': '10,000,000+', 'minInstalls': 10000000, 'realInstalls': 39059992, 'score': 3.65, 'ratings': 623397, 'reviews': 463, 'histogram': [186502, 5808, 24522, 24522, 380104], 'price': 0, 'free': True, 'currency': 'USD', 'sale': False, 'saleTime': None, 'originalPrice': None, 'saleText': None, 'offersIAP': False, 'inAppProductPrice': None, 'developer': 'PT Bank Mandiri (Persero) Tbk', 'developerId': 'PT+Bank+Mandiri+(Persero)+Tbk', 'developerEmail': 'mandiricare@bankmandiri.co.id', 'developerWebsite': 'https://bmri.id/livin', 'developerAddress': 'PT Bank Mandiri (Persero) Tbk\\nPlaza Mandiri\\nJalan Jendral Gatot Subroto KAV 36-38\\nJakarta 12190\\nIndonesia', 'privacyPolicy': 'https://bankmandiri.co.id/livin/kebijakan-privasi', 'genre': 'Finance', 'genreId': 'FINANCE', 'categories': [{'name': 'Finance', 'id': 'FINANCE'}], 'icon': 'https://play-lh.googleusercontent.com/UVxiWRu-aoAVEfL7LbIv8K3OqR3lZluKolW-hMZoraeFqlWbCdm8-pHtGtKSjiHwDz0', 'headerImage': 'https://play-lh.googleusercontent.com/bduRF-3F0l2lf7o_KOwFra6wBfERJpd2hovYddDkg9Pqg7lgHoBpzntf5Lritk84cBhL', 'screenshots': ['https://play-lh.googleusercontent.com/ZpmV5xcNIvnV_VzgddngTRvNUJ6hYoxbJmk9mXDSzqLtS1uuO8dEM8S94Z1l-kz1bfI', 'https://play-lh.googleusercontent.com/jKXp-Rt5Na7grRxaz63Rzp7gvCUcFqQ-mqXy9eFzleTvdywFINtIEzIE-ZPDP097Hg', 'https://play-lh.googleusercontent.com/obczbDA5-OUvoLrVolv8ugL8Yd2242NgLn4K6peXcBqo-y76HSGgLA8q8iFRaso5Ys8', 'https://play-lh.googleusercontent.com/yL0I6R1B4xn2Zk1oeGgZo7lkN4_ap0V6VUgBsKPac01-YcAvaRe75NJdI3fvvSsmEL0', 'https://play-lh.googleusercontent.com/gLAAz8CmSPqn61zQEPqF0_CXzPMoKgHEBEBqdNV2NK38hciHIWZPVLcFs7Gxwa8I-7g', 'https://play-lh.googleusercontent.com/Yw80XljRHMtJU3jGPmr7FkpZgyXf3Wx6KbaJ9ea7kDt2Nk9rIoP5BwfutAznHeWnJ9MI', 'https://play-lh.googleusercontent.com/6vMGFrWOVhTV5YqA7Qiv3YKSXO_xo9DDFeG1AvD54czQr9L8qa0RACNJscT5KfGnKiQ', 'https://play-lh.googleusercontent.com/2orNrrh-kY0hClbyfY9w8Eup5uB1G8RAmXkAHVLahMZPXXmWES4LqbVM5Z3fNMbdIQc'], 'video': None, 'videoImage': None, 'contentRating': 'Everyone', 'contentRatingDescription': None, 'adSupported': False, 'containsAds': False, 'released': 'Sep 23, 2021', 'lastUpdatedOn': 'Feb 15, 2025', 'updated': 1739617365, 'version': '2.2.0', 'comments': [], 'appId': 'id.bmri.livin', 'url': 'https://play.google.com/store/apps/details?id=id.bmri.livin&hl=en&gl=us'}\n"
     ]
    }
   ],
   "source": [
    "app_info = app('id.bmri.livin')\n",
    "print(app_info)"
   ]
  },
  {
   "cell_type": "markdown",
   "id": "2df45660",
   "metadata": {},
   "source": [
    "### 3. Proses Scraping"
   ]
  },
  {
   "cell_type": "code",
   "execution_count": 4,
   "id": "33f5c76d",
   "metadata": {},
   "outputs": [
    {
     "data": {
      "text/html": [
       "<div>\n",
       "<style scoped>\n",
       "    .dataframe tbody tr th:only-of-type {\n",
       "        vertical-align: middle;\n",
       "    }\n",
       "\n",
       "    .dataframe tbody tr th {\n",
       "        vertical-align: top;\n",
       "    }\n",
       "\n",
       "    .dataframe thead th {\n",
       "        text-align: right;\n",
       "    }\n",
       "</style>\n",
       "<table border=\"1\" class=\"dataframe\">\n",
       "  <thead>\n",
       "    <tr style=\"text-align: right;\">\n",
       "      <th></th>\n",
       "      <th>reviewId</th>\n",
       "      <th>userName</th>\n",
       "      <th>userImage</th>\n",
       "      <th>content</th>\n",
       "      <th>score</th>\n",
       "      <th>thumbsUpCount</th>\n",
       "      <th>reviewCreatedVersion</th>\n",
       "      <th>at</th>\n",
       "      <th>replyContent</th>\n",
       "      <th>repliedAt</th>\n",
       "      <th>appVersion</th>\n",
       "    </tr>\n",
       "  </thead>\n",
       "  <tbody>\n",
       "    <tr>\n",
       "      <th>0</th>\n",
       "      <td>cf72829c-8464-4885-a10c-aefe23dcee88</td>\n",
       "      <td>Pengguna Google</td>\n",
       "      <td>https://play-lh.googleusercontent.com/EGemoI2N...</td>\n",
       "      <td>aplikasi ini sangat membantu saya</td>\n",
       "      <td>5</td>\n",
       "      <td>0</td>\n",
       "      <td>None</td>\n",
       "      <td>2025-04-08 21:22:45</td>\n",
       "      <td>Halo Sahabat @Ham Dani, terima kasih atas revi...</td>\n",
       "      <td>2025-04-08 21:56:10</td>\n",
       "      <td>None</td>\n",
       "    </tr>\n",
       "    <tr>\n",
       "      <th>1</th>\n",
       "      <td>5c93d822-caea-41db-9322-8f66492509d9</td>\n",
       "      <td>Pengguna Google</td>\n",
       "      <td>https://play-lh.googleusercontent.com/EGemoI2N...</td>\n",
       "      <td>sangat membantu</td>\n",
       "      <td>5</td>\n",
       "      <td>0</td>\n",
       "      <td>2.2.0</td>\n",
       "      <td>2025-04-08 20:41:29</td>\n",
       "      <td>Halo Sahabat @Ridwan Efendi, terima kasih atas...</td>\n",
       "      <td>2025-04-08 21:56:07</td>\n",
       "      <td>2.2.0</td>\n",
       "    </tr>\n",
       "    <tr>\n",
       "      <th>2</th>\n",
       "      <td>be696edc-ec18-425a-a49c-a1fa1d5d1c16</td>\n",
       "      <td>Pengguna Google</td>\n",
       "      <td>https://play-lh.googleusercontent.com/EGemoI2N...</td>\n",
       "      <td>berulang kali masuk kan data pribadi gagal tru...</td>\n",
       "      <td>2</td>\n",
       "      <td>0</td>\n",
       "      <td>2.2.0</td>\n",
       "      <td>2025-04-08 20:30:59</td>\n",
       "      <td>Halo Sahabat @Kanda, mohon maaf atas ketidakny...</td>\n",
       "      <td>2025-04-08 21:56:04</td>\n",
       "      <td>2.2.0</td>\n",
       "    </tr>\n",
       "    <tr>\n",
       "      <th>3</th>\n",
       "      <td>72d2546b-28c0-4fc5-b9be-d70eb61801d3</td>\n",
       "      <td>Pengguna Google</td>\n",
       "      <td>https://play-lh.googleusercontent.com/EGemoI2N...</td>\n",
       "      <td>sangat membantu</td>\n",
       "      <td>5</td>\n",
       "      <td>0</td>\n",
       "      <td>None</td>\n",
       "      <td>2025-04-08 20:30:24</td>\n",
       "      <td>Halo Sahabat @Samsudin, terima kasih atas revi...</td>\n",
       "      <td>2025-04-08 21:56:00</td>\n",
       "      <td>None</td>\n",
       "    </tr>\n",
       "    <tr>\n",
       "      <th>4</th>\n",
       "      <td>fd22d4df-1e86-4a59-aa82-1b3f2f9ba495</td>\n",
       "      <td>Pengguna Google</td>\n",
       "      <td>https://play-lh.googleusercontent.com/EGemoI2N...</td>\n",
       "      <td>assalamualaikum min. saya lupaa pasword livin ...</td>\n",
       "      <td>5</td>\n",
       "      <td>0</td>\n",
       "      <td>None</td>\n",
       "      <td>2025-04-08 20:25:01</td>\n",
       "      <td>Halo Sahabat @Jai Lani, mohon maaf atas ketida...</td>\n",
       "      <td>2025-04-08 21:55:56</td>\n",
       "      <td>None</td>\n",
       "    </tr>\n",
       "  </tbody>\n",
       "</table>\n",
       "</div>"
      ],
      "text/plain": [
       "                               reviewId         userName  \\\n",
       "0  cf72829c-8464-4885-a10c-aefe23dcee88  Pengguna Google   \n",
       "1  5c93d822-caea-41db-9322-8f66492509d9  Pengguna Google   \n",
       "2  be696edc-ec18-425a-a49c-a1fa1d5d1c16  Pengguna Google   \n",
       "3  72d2546b-28c0-4fc5-b9be-d70eb61801d3  Pengguna Google   \n",
       "4  fd22d4df-1e86-4a59-aa82-1b3f2f9ba495  Pengguna Google   \n",
       "\n",
       "                                           userImage  \\\n",
       "0  https://play-lh.googleusercontent.com/EGemoI2N...   \n",
       "1  https://play-lh.googleusercontent.com/EGemoI2N...   \n",
       "2  https://play-lh.googleusercontent.com/EGemoI2N...   \n",
       "3  https://play-lh.googleusercontent.com/EGemoI2N...   \n",
       "4  https://play-lh.googleusercontent.com/EGemoI2N...   \n",
       "\n",
       "                                             content  score  thumbsUpCount  \\\n",
       "0                  aplikasi ini sangat membantu saya      5              0   \n",
       "1                                    sangat membantu      5              0   \n",
       "2  berulang kali masuk kan data pribadi gagal tru...      2              0   \n",
       "3                                    sangat membantu      5              0   \n",
       "4  assalamualaikum min. saya lupaa pasword livin ...      5              0   \n",
       "\n",
       "  reviewCreatedVersion                  at  \\\n",
       "0                 None 2025-04-08 21:22:45   \n",
       "1                2.2.0 2025-04-08 20:41:29   \n",
       "2                2.2.0 2025-04-08 20:30:59   \n",
       "3                 None 2025-04-08 20:30:24   \n",
       "4                 None 2025-04-08 20:25:01   \n",
       "\n",
       "                                        replyContent           repliedAt  \\\n",
       "0  Halo Sahabat @Ham Dani, terima kasih atas revi... 2025-04-08 21:56:10   \n",
       "1  Halo Sahabat @Ridwan Efendi, terima kasih atas... 2025-04-08 21:56:07   \n",
       "2  Halo Sahabat @Kanda, mohon maaf atas ketidakny... 2025-04-08 21:56:04   \n",
       "3  Halo Sahabat @Samsudin, terima kasih atas revi... 2025-04-08 21:56:00   \n",
       "4  Halo Sahabat @Jai Lani, mohon maaf atas ketida... 2025-04-08 21:55:56   \n",
       "\n",
       "  appVersion  \n",
       "0       None  \n",
       "1      2.2.0  \n",
       "2      2.2.0  \n",
       "3       None  \n",
       "4       None  "
      ]
     },
     "execution_count": 4,
     "metadata": {},
     "output_type": "execute_result"
    }
   ],
   "source": [
    "result, continuation_token = reviews( \n",
    "    'id.bmri.livin',\n",
    "    lang='id',\n",
    "    country='id',\n",
    "    sort=Sort.NEWEST,\n",
    "    count=10000,\n",
    "    filter_score_with=None\n",
    ")\n",
    "\n",
    "df = pd.DataFrame(np.array(result), columns=['review'])\n",
    "df = df.join(pd.DataFrame(df.pop('review').tolist()))\n",
    "df.head()"
   ]
  },
  {
   "cell_type": "code",
   "execution_count": 5,
   "id": "00a07741",
   "metadata": {},
   "outputs": [
    {
     "name": "stdout",
     "output_type": "stream",
     "text": [
      "<class 'pandas.core.frame.DataFrame'>\n",
      "RangeIndex: 10000 entries, 0 to 9999\n",
      "Data columns (total 11 columns):\n",
      " #   Column                Non-Null Count  Dtype         \n",
      "---  ------                --------------  -----         \n",
      " 0   reviewId              10000 non-null  object        \n",
      " 1   userName              10000 non-null  object        \n",
      " 2   userImage             10000 non-null  object        \n",
      " 3   content               10000 non-null  object        \n",
      " 4   score                 10000 non-null  int64         \n",
      " 5   thumbsUpCount         10000 non-null  int64         \n",
      " 6   reviewCreatedVersion  7858 non-null   object        \n",
      " 7   at                    10000 non-null  datetime64[ns]\n",
      " 8   replyContent          9050 non-null   object        \n",
      " 9   repliedAt             9050 non-null   datetime64[ns]\n",
      " 10  appVersion            7858 non-null   object        \n",
      "dtypes: datetime64[ns](2), int64(2), object(7)\n",
      "memory usage: 859.5+ KB\n"
     ]
    }
   ],
   "source": [
    "df.info()"
   ]
  },
  {
   "cell_type": "markdown",
   "id": "37d971d5",
   "metadata": {},
   "source": [
    "### 4. Menghapus variabel yang tidak digunakan"
   ]
  },
  {
   "cell_type": "code",
   "execution_count": 6,
   "id": "d2340e6f",
   "metadata": {},
   "outputs": [],
   "source": [
    "df_new = df.drop(columns = ['reviewId','userName','reviewCreatedVersion','replyContent','repliedAt',\n",
    "                            'appVersion','userImage','thumbsUpCount','at','score'])"
   ]
  },
  {
   "cell_type": "code",
   "execution_count": 7,
   "id": "63e31e65",
   "metadata": {},
   "outputs": [],
   "source": [
    "df_new.insert(0, \"ID\", range(1, len(df_new) + 1))"
   ]
  },
  {
   "cell_type": "code",
   "execution_count": 9,
   "id": "e32c1605",
   "metadata": {},
   "outputs": [
    {
     "name": "stdout",
     "output_type": "stream",
     "text": [
      "<class 'pandas.core.frame.DataFrame'>\n",
      "RangeIndex: 10000 entries, 0 to 9999\n",
      "Data columns (total 2 columns):\n",
      " #   Column   Non-Null Count  Dtype \n",
      "---  ------   --------------  ----- \n",
      " 0   ID       10000 non-null  int64 \n",
      " 1   content  10000 non-null  object\n",
      "dtypes: int64(1), object(1)\n",
      "memory usage: 156.4+ KB\n"
     ]
    }
   ],
   "source": [
    "df_new.info()"
   ]
  },
  {
   "cell_type": "markdown",
   "id": "fac4d0d9",
   "metadata": {},
   "source": [
    "### 5. Export hasil scraping _to .csv_"
   ]
  },
  {
   "cell_type": "code",
   "execution_count": 10,
   "id": "b5258608",
   "metadata": {},
   "outputs": [],
   "source": [
    "df_new.to_csv(\"hasil_scraping.csv\", index=False)"
   ]
  }
 ],
 "metadata": {
  "kernelspec": {
   "display_name": "base",
   "language": "python",
   "name": "python3"
  },
  "language_info": {
   "codemirror_mode": {
    "name": "ipython",
    "version": 3
   },
   "file_extension": ".py",
   "mimetype": "text/x-python",
   "name": "python",
   "nbconvert_exporter": "python",
   "pygments_lexer": "ipython3",
   "version": "3.11.5"
  }
 },
 "nbformat": 4,
 "nbformat_minor": 5
}
