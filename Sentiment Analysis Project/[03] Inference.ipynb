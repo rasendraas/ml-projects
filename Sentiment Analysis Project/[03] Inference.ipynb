{
 "cells": [
  {
   "cell_type": "markdown",
   "id": "44df66cc",
   "metadata": {},
   "source": [
    "# Model Inference untuk Klasifikasi Sentimen"
   ]
  },
  {
   "cell_type": "markdown",
   "id": "f0b878f2",
   "metadata": {},
   "source": [
    "##### _Made by: Rasendra Akbar Satyatama_ - MC004D5Y1124"
   ]
  },
  {
   "cell_type": "markdown",
   "id": "932a1d73",
   "metadata": {},
   "source": [
    "## 1. Import Libraries"
   ]
  },
  {
   "cell_type": "code",
   "execution_count": 18,
   "id": "6b59c5d9",
   "metadata": {},
   "outputs": [],
   "source": [
    "import numpy as np\n",
    "import pandas as pd\n",
    "\n",
    "from tensorflow.keras.preprocessing.sequence import pad_sequences\n",
    "\n",
    "import joblib\n",
    "import pickle\n",
    "from tensorflow.keras.models import load_model"
   ]
  },
  {
   "cell_type": "markdown",
   "id": "a7f25a1a",
   "metadata": {},
   "source": [
    "## 2. Load Model"
   ]
  },
  {
   "cell_type": "code",
   "execution_count": 19,
   "id": "9bde6f95",
   "metadata": {},
   "outputs": [
    {
     "name": "stderr",
     "output_type": "stream",
     "text": [
      "WARNING:absl:Compiled the loaded model, but the compiled metrics have yet to be built. `model.compile_metrics` will be empty until you train or evaluate the model.\n",
      "WARNING:absl:Compiled the loaded model, but the compiled metrics have yet to be built. `model.compile_metrics` will be empty until you train or evaluate the model.\n"
     ]
    }
   ],
   "source": [
    "model_svm_tfidf = joblib.load('model_svm_tfidf.pkl')\n",
    "model_mlp = load_model('model_mlp.h5')\n",
    "model_lstm = load_model('model_lstm.h5')\n",
    "\n",
    "with open('l_ekstraksi fitur_tfidf.pkl', 'rb') as f:\n",
    "    tfidf = pickle.load(f)\n",
    "\n",
    "with open('l_ekstraksi fitur_tokenizer.pkl', 'rb') as f:\n",
    "    tokenizer_LSTM = pickle.load(f)"
   ]
  },
  {
   "cell_type": "markdown",
   "id": "da8605fe",
   "metadata": {},
   "source": [
    "## 3. Data Testing from User Input"
   ]
  },
  {
   "cell_type": "markdown",
   "id": "268aa37b",
   "metadata": {},
   "source": [
    "#### User Input"
   ]
  },
  {
   "cell_type": "code",
   "execution_count": 20,
   "id": "52002dc1",
   "metadata": {},
   "outputs": [
    {
     "name": "stdout",
     "output_type": "stream",
     "text": [
      "\n",
      "Ulasan yang dimasukkan: transaksi cepat dan lancar\n"
     ]
    }
   ],
   "source": [
    "user_input = input(\"Masukkan ulasan Anda: \")\n",
    "\n",
    "print(f\"\\nUlasan yang dimasukkan: {user_input}\")"
   ]
  },
  {
   "cell_type": "markdown",
   "id": "c2481574",
   "metadata": {},
   "source": [
    "#### Feature Extraction"
   ]
  },
  {
   "cell_type": "code",
   "execution_count": 21,
   "id": "b944c1b2",
   "metadata": {},
   "outputs": [],
   "source": [
    "ulasan_tfidf = tfidf.transform([user_input])\n",
    "\n",
    "ulasan_seq = tokenizer_LSTM.texts_to_sequences([user_input])\n",
    "ulasan_pad = pad_sequences(ulasan_seq, maxlen=100)"
   ]
  },
  {
   "cell_type": "markdown",
   "id": "d87dbee0",
   "metadata": {},
   "source": [
    "#### Predicting"
   ]
  },
  {
   "cell_type": "code",
   "execution_count": 22,
   "id": "054fa58c",
   "metadata": {},
   "outputs": [
    {
     "name": "stdout",
     "output_type": "stream",
     "text": [
      "\u001b[1m1/1\u001b[0m \u001b[32m━━━━━━━━━━━━━━━━━━━━\u001b[0m\u001b[37m\u001b[0m \u001b[1m0s\u001b[0m 61ms/step\n",
      "\u001b[1m1/1\u001b[0m \u001b[32m━━━━━━━━━━━━━━━━━━━━\u001b[0m\u001b[37m\u001b[0m \u001b[1m1s\u001b[0m 545ms/step\n"
     ]
    }
   ],
   "source": [
    "pred_svm = model_svm_tfidf.predict(ulasan_tfidf)[0]\n",
    "\n",
    "pred_mlp = model_mlp.predict(ulasan_tfidf.toarray())\n",
    "pred_mlp = np.argmax(pred_mlp, axis=1)[0]\n",
    "\n",
    "pred_lstm = model_lstm.predict(ulasan_pad)\n",
    "pred_lstm = np.argmax(pred_lstm, axis=1)[0]"
   ]
  },
  {
   "cell_type": "markdown",
   "id": "d00aca55",
   "metadata": {},
   "source": [
    "#### Results"
   ]
  },
  {
   "cell_type": "code",
   "execution_count": 23,
   "id": "c3212796",
   "metadata": {},
   "outputs": [
    {
     "name": "stdout",
     "output_type": "stream",
     "text": [
      "\n",
      "=== Hasil Prediksi ===\n",
      "SVM TF-IDF : positive\n",
      "MLP TF-IDF : positive\n",
      "LSTM       : positive\n"
     ]
    }
   ],
   "source": [
    "label_mapping = {0: 'negative', 1: 'neutral', 2: 'positive'}\n",
    "\n",
    "print(\"\\n=== Hasil Prediksi ===\")\n",
    "print(\"SVM TF-IDF :\", label_mapping[pred_svm])\n",
    "print(\"MLP TF-IDF :\", label_mapping[pred_mlp])\n",
    "print(\"LSTM       :\", label_mapping[pred_lstm])"
   ]
  }
 ],
 "metadata": {
  "kernelspec": {
   "display_name": "base",
   "language": "python",
   "name": "python3"
  },
  "language_info": {
   "codemirror_mode": {
    "name": "ipython",
    "version": 3
   },
   "file_extension": ".py",
   "mimetype": "text/x-python",
   "name": "python",
   "nbconvert_exporter": "python",
   "pygments_lexer": "ipython3",
   "version": "3.11.5"
  }
 },
 "nbformat": 4,
 "nbformat_minor": 5
}
